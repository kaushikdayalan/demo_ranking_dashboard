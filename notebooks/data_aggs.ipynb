{
 "cells": [
  {
   "cell_type": "code",
   "execution_count": null,
   "id": "4b55eda0",
   "metadata": {},
   "outputs": [],
   "source": [
    "private_accounts = [\n",
    "    \"https://www.instagram.com/press.julian/\",\n",
    "    \"https://www.instagram.com/ilonac.kneissler/\",\n",
    "    \"https://www.instagram.com/ep3octaviars/\",\n",
    "    \"https://www.instagram.com/ewe_michael/\",\n",
    "]"
   ]
  },
  {
   "cell_type": "code",
   "execution_count": null,
   "id": "e1205952",
   "metadata": {},
   "outputs": [],
   "source": [
    "business_accounts = [\n",
    "    \"https://www.instagram.com/kfz_reifenservice_molfsee_/\",\n",
    "    \"https://www.instagram.com/rogersonderegger/\",\n",
    "    \"https://www.instagram.com/beton.gold.official/\",\n",
    "    \"https://www.instagram.com/room.base24/\",\n",
    "    \"https://www.instagram.com/grubenholz/\",\n",
    "    \"https://www.instagram.com/seeluft.immobilien/\",\n",
    "    \"https://www.instagram.com/mario.pahl.shabbygarten/\",\n",
    "]"
   ]
  },
  {
   "cell_type": "code",
   "execution_count": null,
   "id": "34dfc184",
   "metadata": {},
   "outputs": [],
   "source": []
  },
  {
   "cell_type": "code",
   "execution_count": null,
   "id": "09c549ad",
   "metadata": {},
   "outputs": [],
   "source": []
  }
 ],
 "metadata": {
  "language_info": {
   "name": "python"
  }
 },
 "nbformat": 4,
 "nbformat_minor": 5
}
