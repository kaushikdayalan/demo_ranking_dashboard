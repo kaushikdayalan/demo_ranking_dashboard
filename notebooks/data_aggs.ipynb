{
 "cells": [
  {
   "cell_type": "code",
   "execution_count": null,
   "id": "4b55eda0",
   "metadata": {},
   "outputs": [],
   "source": [
    "private_accounts = [\n",
    "    \n",
    "]"
   ]
  },
  {
   "cell_type": "code",
   "execution_count": null,
   "id": "e1205952",
   "metadata": {},
   "outputs": [],
   "source": [
    "business_accounts = [\n",
    "\"https://www.instagram.com/markushlubek.immobilien/\",\n",
    "\"https://www.instagram.com/celinevenhofen.immobilien/\",\n",
    "\"https://www.instagram.com/ekincemdurmaz.immobilien/\",\n",
    "\"https://www.instagram.com/immotraum_westkueste/\"\n",
    "]"
   ]
  },
  {
   "cell_type": "code",
   "execution_count": null,
   "id": "34dfc184",
   "metadata": {},
   "outputs": [],
   "source": []
  },
  {
   "cell_type": "code",
   "execution_count": null,
   "id": "09c549ad",
   "metadata": {},
   "outputs": [],
   "source": []
  }
 ],
 "metadata": {
  "language_info": {
   "name": "python"
  }
 },
 "nbformat": 4,
 "nbformat_minor": 5
}
