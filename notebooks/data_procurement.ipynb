{
 "cells": [
  {
   "cell_type": "code",
   "execution_count": 1,
   "id": "6c835ae3",
   "metadata": {},
   "outputs": [],
   "source": [
    "import requests\n",
    "import time\n",
    "import json\n",
    "from typing import List\n",
    "import pandas as pd"
   ]
  },
  {
   "cell_type": "markdown",
   "id": "77c68ae8",
   "metadata": {},
   "source": [
    "## Apify data procurement"
   ]
  },
  {
   "cell_type": "code",
   "execution_count": 2,
   "id": "e99c7a78",
   "metadata": {},
   "outputs": [],
   "source": [
    "class ApifyActorRunner:\n",
    "    def __init__(self, token: str):\n",
    "        self.base_url = \"https://api.apify.com/v2\"\n",
    "        self.token = token\n",
    "\n",
    "    def _headers(self):\n",
    "        return {\n",
    "            \"Authorization\": f\"Bearer {self.token}\",\n",
    "            \"Content-Type\": \"application/json\",\n",
    "        }\n",
    "\n",
    "    def run_actor(self, actor_id: str, actor_input: dict) -> str:\n",
    "        \"\"\"Trigger the actor and return the runId.\"\"\"\n",
    "        url = f\"{self.base_url}/acts/{actor_id}/runs\"\n",
    "        params = {\"token\": self.token}\n",
    "        response = requests.post(\n",
    "            url, headers=self._headers(), json=actor_input, params=params\n",
    "        )\n",
    "        response.raise_for_status()\n",
    "        return response.json()[\"data\"][\"id\"]\n",
    "\n",
    "    def wait_for_run_to_finish(\n",
    "        self, run_id: str, poll_interval: int = 5, timeout: int = 600\n",
    "    ) -> str:\n",
    "        \"\"\"Poll for actor run status until it finishes, fails, or times out.\"\"\"\n",
    "        url = f\"{self.base_url}/actor-runs/{run_id}\"\n",
    "        elapsed = 0\n",
    "        while elapsed < timeout:\n",
    "            response = requests.get(url, headers=self._headers())\n",
    "            response.raise_for_status()\n",
    "            status = response.json()[\"data\"][\"status\"]\n",
    "            if status in [\"SUCCEEDED\", \"FAILED\", \"ABORTED\", \"TIMED-OUT\"]:\n",
    "                return status\n",
    "            time.sleep(poll_interval)\n",
    "            elapsed += poll_interval\n",
    "        raise TimeoutError(\"Actor run timed out\")\n",
    "\n",
    "    def get_dataset_items(\n",
    "        self, run_id: str, clean: bool = True, format: str = \"json\"\n",
    "    ) -> list:\n",
    "        \"\"\"Fetch dataset items from completed actor run.\"\"\"\n",
    "        # First, get the dataset ID from the run\n",
    "        url = f\"{self.base_url}/actor-runs/{run_id}\"\n",
    "        response = requests.get(url, headers=self._headers())\n",
    "        response.raise_for_status()\n",
    "        dataset_id = response.json()[\"data\"][\"defaultDatasetId\"]\n",
    "\n",
    "        # Now fetch items from dataset\n",
    "        dataset_url = f\"{self.base_url}/datasets/{dataset_id}/items\"\n",
    "        params = {\"clean\": str(clean).lower(), \"format\": format}\n",
    "        dataset_response = requests.get(\n",
    "            dataset_url, headers=self._headers(), params=params\n",
    "        )\n",
    "        dataset_response.raise_for_status()\n",
    "        return dataset_response.json()\n",
    "\n",
    "    def run_actor_and_get_data(self, actor_id: str, actor_input: dict) -> list:\n",
    "        \"\"\"Full process: run, wait, and fetch data.\"\"\"\n",
    "        run_id = self.run_actor(actor_id, actor_input)\n",
    "        status = self.wait_for_run_to_finish(run_id)\n",
    "        if status != \"SUCCEEDED\":\n",
    "            raise RuntimeError(f\"Actor run did not succeed. Final status: {status}\")\n",
    "        return self.get_dataset_items(run_id)"
   ]
  },
  {
   "cell_type": "code",
   "execution_count": 3,
   "id": "f3b446a4",
   "metadata": {},
   "outputs": [],
   "source": [
    "import os\n",
    "from dotenv import load_dotenv\n",
    "\n",
    "load_dotenv()  # reads .env in your project root\n",
    "apify_token = os.getenv(\"APIFY_TOKEN\")\n",
    "\n",
    "runner = ApifyActorRunner(token=apify_token)"
   ]
  },
  {
   "cell_type": "code",
   "execution_count": 5,
   "id": "b13e6cb0",
   "metadata": {},
   "outputs": [],
   "source": [
    "private_accounts = [\"https://www.instagram.com/tanja.beyrau/\"]\n",
    "\n",
    "business_accounts = [\n",
    "    \"https://www.instagram.com/markushlubek.immobilien/\",\n",
    "    \"https://www.instagram.com/celinevenhofen.immobilien/\",\n",
    "    \"https://www.instagram.com/ekincemdurmaz.immobilien/\",\n",
    "    \"https://www.instagram.com/immotraum_westkueste/\",\n",
    "]"
   ]
  },
  {
   "cell_type": "code",
   "execution_count": 6,
   "id": "f777879c",
   "metadata": {},
   "outputs": [],
   "source": [
    "def fetch_username_from_url(url: str) -> str:\n",
    "    url = url.rstrip(\"/\")\n",
    "    return url.split(\"/\")[-1]"
   ]
  },
  {
   "cell_type": "code",
   "execution_count": 7,
   "id": "390e623d",
   "metadata": {},
   "outputs": [],
   "source": [
    "actor_id = \"apify~instagram-post-scraper\"\n",
    "\n",
    "user_names = [fetch_username_from_url(url=url) for url in private_accounts]\n",
    "\n",
    "actor_input = {\n",
    "    \"resultsLimit\": 20,\n",
    "    \"skipPinnedPosts\": False,\n",
    "    \"username\": None,\n",
    "}"
   ]
  },
  {
   "cell_type": "code",
   "execution_count": 8,
   "id": "24d2261c",
   "metadata": {},
   "outputs": [
    {
     "name": "stdout",
     "output_type": "stream",
     "text": [
      "Actor run succeeded for profile: tanja.beyrau\n"
     ]
    }
   ],
   "source": [
    "data_response = []\n",
    "\n",
    "for username in user_names:\n",
    "    actor_input[\"username\"] = [username]\n",
    "    try:\n",
    "        data = runner.run_actor_and_get_data(actor_id, actor_input)\n",
    "        print(f\"Actor run succeeded for profile: {username}\")\n",
    "        data_response.append(data)\n",
    "        time.sleep(5)\n",
    "    except Exception as e:\n",
    "        print(f\"Error during actor run: {e}\")"
   ]
  },
  {
   "cell_type": "code",
   "execution_count": 27,
   "id": "3d67218c",
   "metadata": {},
   "outputs": [
    {
     "name": "stdout",
     "output_type": "stream",
     "text": [
      "/Users/kaushikdayalan/projects/streamlit_experiment/notebooks\n"
     ]
    }
   ],
   "source": [
    "!pwd"
   ]
  },
  {
   "cell_type": "code",
   "execution_count": 9,
   "id": "3fc37b31",
   "metadata": {},
   "outputs": [
    {
     "data": {
      "text/plain": [
       "1"
      ]
     },
     "execution_count": 9,
     "metadata": {},
     "output_type": "execute_result"
    }
   ],
   "source": [
    "len(data_response)"
   ]
  },
  {
   "cell_type": "code",
   "execution_count": 10,
   "id": "487b4587",
   "metadata": {},
   "outputs": [],
   "source": [
    "def raw_dump(username: str, data: List) -> None:\n",
    "    with open(f\"./data/raw_data/{username}_data.json\", \"w\") as file:\n",
    "        json.dump(data, file)\n",
    "\n",
    "\n",
    "for username, data in zip(user_names, data_response):\n",
    "    raw_dump(username=username, data=data)"
   ]
  },
  {
   "cell_type": "code",
   "execution_count": 11,
   "id": "8d5eca7f",
   "metadata": {},
   "outputs": [],
   "source": [
    "def preprocess_reponses(data: List):\n",
    "    processed_data = []\n",
    "\n",
    "    for item in data:\n",
    "        temp_data = {}\n",
    "        temp_data[\"profile_url\"] = item[\"inputUrl\"]\n",
    "        temp_data[\"profile_name\"] = item[\"ownerUsername\"]\n",
    "        temp_data[\"media_type\"] = item[\"type\"]\n",
    "        temp_data[\"post_url\"] = item[\"url\"]\n",
    "        temp_data[\"caption\"] = item[\"caption\"]\n",
    "        temp_data[\"comments_count\"] = item[\"commentsCount\"]\n",
    "        temp_data[\"like_count\"] = item[\"likesCount\"]\n",
    "        temp_data[\"post_timestamp\"] = item[\"timestamp\"]\n",
    "        processed_data.append(temp_data)\n",
    "    return processed_data"
   ]
  },
  {
   "cell_type": "code",
   "execution_count": 12,
   "id": "54665dcb",
   "metadata": {},
   "outputs": [],
   "source": [
    "for username in user_names:\n",
    "    with open(f\"./data/raw_data/{username}_data.json\", \"r\") as file:\n",
    "        data = json.load(file)\n",
    "\n",
    "    data = preprocess_reponses(data=data)\n",
    "    df = pd.DataFrame(data)\n",
    "    df.to_csv(f\"./data/processed_data/{username}_data.csv\", index=False)"
   ]
  },
  {
   "cell_type": "markdown",
   "id": "17921c3b",
   "metadata": {},
   "source": [
    "## API data procurement"
   ]
  },
  {
   "cell_type": "code",
   "execution_count": 13,
   "id": "fefe53c3",
   "metadata": {},
   "outputs": [],
   "source": [
    "starter_url = \"http://10.250.10.100\"\n",
    "base_post_url = \"/instagramscraper\"\n",
    "download = \"false\"\n",
    "endpoint = f\"{starter_url}{base_post_url}/scraper/post_scraper\"\n",
    "\n",
    "\n",
    "public_usernames = [fetch_username_from_url(url=url) for url in business_accounts]\n",
    "\n",
    "data_responses = []\n",
    "\n",
    "for username in public_usernames:\n",
    "    params = {\"username\": username, \"download\": download}\n",
    "    response = requests.get(endpoint, params=params)\n",
    "    followers_count = response.json()[\"business_discovery\"][\"followers_count\"]\n",
    "    data = pd.DataFrame(response.json()[\"business_discovery\"][\"media\"][\"data\"])\n",
    "    data[\"followers\"] = followers_count\n",
    "    data[\"engagement\"] = data[[\"like_count\", \"comments_count\"]].sum(axis=1)\n",
    "    data[\"profile_url\"] = f\"https://www.instagram.com/{username}/\"\n",
    "    data[\"profile_name\"] = username\n",
    "    data = data.rename({\"timestamp\": \"post_timestamp\", \"permalink\": \"post_url\"}, axis=1)\n",
    "    data = data[\n",
    "        [\n",
    "            \"profile_url\",\n",
    "            \"profile_name\",\n",
    "            \"media_type\",\n",
    "            \"post_url\",\n",
    "            \"caption\",\n",
    "            \"comments_count\",\n",
    "            \"like_count\",\n",
    "            \"post_timestamp\",\n",
    "        ]\n",
    "    ]\n",
    "\n",
    "    data.to_csv(f\"./data/processed_data/{username}_data.csv\", index=False)\n",
    "    time.sleep(5)"
   ]
  },
  {
   "cell_type": "code",
   "execution_count": 14,
   "id": "4b163a06",
   "metadata": {},
   "outputs": [],
   "source": [
    "from glob import glob\n",
    "\n",
    "files = glob(\"./data/processed_data/*.csv\")"
   ]
  },
  {
   "cell_type": "code",
   "execution_count": 15,
   "id": "d0179dc8",
   "metadata": {},
   "outputs": [
    {
     "data": {
      "text/plain": [
       "['./data/processed_data/immotraum_westkueste_data.csv',\n",
       " './data/processed_data/ekincemdurmaz.immobilien_data.csv',\n",
       " './data/processed_data/celinevenhofen.immobilien_data.csv',\n",
       " './data/processed_data/markushlubek.immobilien_data.csv',\n",
       " './data/processed_data/tanja.beyrau_data.csv']"
      ]
     },
     "execution_count": 15,
     "metadata": {},
     "output_type": "execute_result"
    }
   ],
   "source": [
    "files"
   ]
  },
  {
   "cell_type": "code",
   "execution_count": 16,
   "id": "d5e02fcf",
   "metadata": {},
   "outputs": [],
   "source": [
    "merged_df = pd.concat([pd.read_csv(file) for file in files])"
   ]
  },
  {
   "cell_type": "code",
   "execution_count": 17,
   "id": "37a2b834",
   "metadata": {},
   "outputs": [],
   "source": [
    "merged_df[\"like_count\"] = merged_df[\"like_count\"].fillna(0)\n",
    "merged_df[\"comments_count\"] = merged_df[\"comments_count\"].fillna(0)\n",
    "merged_df[\"engagement\"] = merged_df[[\"like_count\", \"comments_count\"]].sum(axis=1)"
   ]
  },
  {
   "cell_type": "code",
   "execution_count": 18,
   "id": "aa5288af",
   "metadata": {},
   "outputs": [],
   "source": [
    "metrics_data = (\n",
    "    merged_df.groupby(\"profile_name\")[[\"like_count\", \"comments_count\", \"engagement\"]]\n",
    "    .sum()\n",
    "    .reset_index()\n",
    "    .sort_values(\"engagement\", ascending=False)\n",
    ")\n",
    "metrics_data = metrics_data.rename(\n",
    "    {\n",
    "        \"like_count\": \"total_likes\",\n",
    "        \"comments_count\": \"total_comments\",\n",
    "        \"engagement\": \"total_engagement\",\n",
    "    },\n",
    "    axis=1,\n",
    ")"
   ]
  },
  {
   "cell_type": "code",
   "execution_count": 19,
   "id": "59174087",
   "metadata": {},
   "outputs": [],
   "source": [
    "posts_count = (\n",
    "    merged_df.groupby(\"profile_name\")\n",
    "    .size()\n",
    "    .reset_index()\n",
    "    .rename({0: \"total_posts\"}, axis=1)\n",
    "    .sort_values(\"total_posts\", ascending=False)\n",
    ")"
   ]
  },
  {
   "cell_type": "code",
   "execution_count": 20,
   "id": "1cf15610",
   "metadata": {},
   "outputs": [],
   "source": [
    "kpi_data = metrics_data.merge(posts_count, on=\"profile_name\", how=\"left\")"
   ]
  },
  {
   "cell_type": "code",
   "execution_count": 21,
   "id": "4bb6ee61",
   "metadata": {},
   "outputs": [
    {
     "data": {
      "text/html": [
       "<div>\n",
       "<style scoped>\n",
       "    .dataframe tbody tr th:only-of-type {\n",
       "        vertical-align: middle;\n",
       "    }\n",
       "\n",
       "    .dataframe tbody tr th {\n",
       "        vertical-align: top;\n",
       "    }\n",
       "\n",
       "    .dataframe thead th {\n",
       "        text-align: right;\n",
       "    }\n",
       "</style>\n",
       "<table border=\"1\" class=\"dataframe\">\n",
       "  <thead>\n",
       "    <tr style=\"text-align: right;\">\n",
       "      <th></th>\n",
       "      <th>profile_name</th>\n",
       "      <th>total_likes</th>\n",
       "      <th>total_comments</th>\n",
       "      <th>total_engagement</th>\n",
       "      <th>total_posts</th>\n",
       "    </tr>\n",
       "  </thead>\n",
       "  <tbody>\n",
       "    <tr>\n",
       "      <th>0</th>\n",
       "      <td>celinevenhofen.immobilien</td>\n",
       "      <td>4739.0</td>\n",
       "      <td>204</td>\n",
       "      <td>4943.0</td>\n",
       "      <td>162</td>\n",
       "    </tr>\n",
       "    <tr>\n",
       "      <th>1</th>\n",
       "      <td>ekincemdurmaz.immobilien</td>\n",
       "      <td>1621.0</td>\n",
       "      <td>34</td>\n",
       "      <td>1655.0</td>\n",
       "      <td>49</td>\n",
       "    </tr>\n",
       "    <tr>\n",
       "      <th>2</th>\n",
       "      <td>markushlubek.immobilien</td>\n",
       "      <td>982.0</td>\n",
       "      <td>42</td>\n",
       "      <td>1024.0</td>\n",
       "      <td>43</td>\n",
       "    </tr>\n",
       "    <tr>\n",
       "      <th>3</th>\n",
       "      <td>immotraum_westkueste</td>\n",
       "      <td>149.0</td>\n",
       "      <td>4</td>\n",
       "      <td>153.0</td>\n",
       "      <td>15</td>\n",
       "    </tr>\n",
       "    <tr>\n",
       "      <th>4</th>\n",
       "      <td>finanzexperten.im.norden</td>\n",
       "      <td>137.0</td>\n",
       "      <td>0</td>\n",
       "      <td>137.0</td>\n",
       "      <td>1</td>\n",
       "    </tr>\n",
       "  </tbody>\n",
       "</table>\n",
       "</div>"
      ],
      "text/plain": [
       "                profile_name  total_likes  total_comments  total_engagement  \\\n",
       "0  celinevenhofen.immobilien       4739.0             204            4943.0   \n",
       "1   ekincemdurmaz.immobilien       1621.0              34            1655.0   \n",
       "2    markushlubek.immobilien        982.0              42            1024.0   \n",
       "3       immotraum_westkueste        149.0               4             153.0   \n",
       "4   finanzexperten.im.norden        137.0               0             137.0   \n",
       "\n",
       "   total_posts  \n",
       "0          162  \n",
       "1           49  \n",
       "2           43  \n",
       "3           15  \n",
       "4            1  "
      ]
     },
     "execution_count": 21,
     "metadata": {},
     "output_type": "execute_result"
    }
   ],
   "source": [
    "kpi_data"
   ]
  },
  {
   "cell_type": "code",
   "execution_count": 22,
   "id": "8e151007",
   "metadata": {},
   "outputs": [],
   "source": [
    "kpi_data.to_csv(\"./data/ranking_data/ranking_dataset.csv\", index=False)"
   ]
  },
  {
   "cell_type": "code",
   "execution_count": 23,
   "id": "2fd1bb2b",
   "metadata": {},
   "outputs": [
    {
     "data": {
      "text/html": [
       "<div>\n",
       "<style scoped>\n",
       "    .dataframe tbody tr th:only-of-type {\n",
       "        vertical-align: middle;\n",
       "    }\n",
       "\n",
       "    .dataframe tbody tr th {\n",
       "        vertical-align: top;\n",
       "    }\n",
       "\n",
       "    .dataframe thead th {\n",
       "        text-align: right;\n",
       "    }\n",
       "</style>\n",
       "<table border=\"1\" class=\"dataframe\">\n",
       "  <thead>\n",
       "    <tr style=\"text-align: right;\">\n",
       "      <th></th>\n",
       "      <th>total_likes</th>\n",
       "      <th>total_comments</th>\n",
       "      <th>total_engagement</th>\n",
       "      <th>total_posts</th>\n",
       "    </tr>\n",
       "  </thead>\n",
       "  <tbody>\n",
       "    <tr>\n",
       "      <th>count</th>\n",
       "      <td>5.00000</td>\n",
       "      <td>5.000000</td>\n",
       "      <td>5.000000</td>\n",
       "      <td>5.00000</td>\n",
       "    </tr>\n",
       "    <tr>\n",
       "      <th>mean</th>\n",
       "      <td>1525.60000</td>\n",
       "      <td>56.800000</td>\n",
       "      <td>1582.400000</td>\n",
       "      <td>54.00000</td>\n",
       "    </tr>\n",
       "    <tr>\n",
       "      <th>std</th>\n",
       "      <td>1900.90631</td>\n",
       "      <td>84.292348</td>\n",
       "      <td>1983.877466</td>\n",
       "      <td>63.52165</td>\n",
       "    </tr>\n",
       "    <tr>\n",
       "      <th>min</th>\n",
       "      <td>137.00000</td>\n",
       "      <td>0.000000</td>\n",
       "      <td>137.000000</td>\n",
       "      <td>1.00000</td>\n",
       "    </tr>\n",
       "    <tr>\n",
       "      <th>25%</th>\n",
       "      <td>149.00000</td>\n",
       "      <td>4.000000</td>\n",
       "      <td>153.000000</td>\n",
       "      <td>15.00000</td>\n",
       "    </tr>\n",
       "    <tr>\n",
       "      <th>50%</th>\n",
       "      <td>982.00000</td>\n",
       "      <td>34.000000</td>\n",
       "      <td>1024.000000</td>\n",
       "      <td>43.00000</td>\n",
       "    </tr>\n",
       "    <tr>\n",
       "      <th>75%</th>\n",
       "      <td>1621.00000</td>\n",
       "      <td>42.000000</td>\n",
       "      <td>1655.000000</td>\n",
       "      <td>49.00000</td>\n",
       "    </tr>\n",
       "    <tr>\n",
       "      <th>max</th>\n",
       "      <td>4739.00000</td>\n",
       "      <td>204.000000</td>\n",
       "      <td>4943.000000</td>\n",
       "      <td>162.00000</td>\n",
       "    </tr>\n",
       "  </tbody>\n",
       "</table>\n",
       "</div>"
      ],
      "text/plain": [
       "       total_likes  total_comments  total_engagement  total_posts\n",
       "count      5.00000        5.000000          5.000000      5.00000\n",
       "mean    1525.60000       56.800000       1582.400000     54.00000\n",
       "std     1900.90631       84.292348       1983.877466     63.52165\n",
       "min      137.00000        0.000000        137.000000      1.00000\n",
       "25%      149.00000        4.000000        153.000000     15.00000\n",
       "50%      982.00000       34.000000       1024.000000     43.00000\n",
       "75%     1621.00000       42.000000       1655.000000     49.00000\n",
       "max     4739.00000      204.000000       4943.000000    162.00000"
      ]
     },
     "execution_count": 23,
     "metadata": {},
     "output_type": "execute_result"
    }
   ],
   "source": [
    "kpi_data.describe()"
   ]
  },
  {
   "cell_type": "code",
   "execution_count": null,
   "id": "aadce13b",
   "metadata": {},
   "outputs": [],
   "source": []
  }
 ],
 "metadata": {
  "kernelspec": {
   "display_name": ".venv",
   "language": "python",
   "name": "python3"
  },
  "language_info": {
   "codemirror_mode": {
    "name": "ipython",
    "version": 3
   },
   "file_extension": ".py",
   "mimetype": "text/x-python",
   "name": "python",
   "nbconvert_exporter": "python",
   "pygments_lexer": "ipython3",
   "version": "3.13.2"
  }
 },
 "nbformat": 4,
 "nbformat_minor": 5
}
